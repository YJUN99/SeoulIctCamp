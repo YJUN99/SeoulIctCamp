{
 "cells": [
  {
   "cell_type": "markdown",
   "metadata": {},
   "source": [
    "### JSON파일을 읽어 딕셔너리로 변환 하기"
   ]
  },
  {
   "cell_type": "code",
   "execution_count": 32,
   "metadata": {},
   "outputs": [
    {
     "name": "stdout",
     "output_type": "stream",
     "text": [
      "{'name': '홍길동', 'birth': '0525', 'age': 30}\n"
     ]
    }
   ],
   "source": [
    "import json\n",
    "\n",
    "with open('myinfo.json') as f:\n",
    "    data = json.load(f)\n",
    "type(data)\n",
    "print(data)"
   ]
  },
  {
   "cell_type": "markdown",
   "metadata": {},
   "source": [
    "### 파이썬 자료형을 JSON 문자열로 만들기\n",
    "\n",
    "딕셔너리를 JSON 데이터로 변경하면 한글 문자열이 코드형태로 표시된다.\n",
    "dumps() 함수는 기본적으로 아스키형태로 저장하는데, 한글은 유니코드이기 떄문에 발생한 것\n",
    "하지만 JSON 문자열을 다시 역변환 하면 사용하는데는 문제가 없다."
   ]
  },
  {
   "cell_type": "code",
   "execution_count": 33,
   "metadata": {},
   "outputs": [
    {
     "data": {
      "text/plain": [
       "'{\"name\": \"\\\\ud64d\\\\uae38\\\\ub3d9\", \"birth\": \"990820\", \"age\": 25}'"
      ]
     },
     "execution_count": 33,
     "metadata": {},
     "output_type": "execute_result"
    }
   ],
   "source": [
    "import json\n",
    "d = {\"name\":\"홍길동\",\"birth\":\"990820\",\"age\":25}\n",
    "json_data = json.dumps(d)\n",
    "json_data"
   ]
  },
  {
   "cell_type": "code",
   "execution_count": 34,
   "metadata": {},
   "outputs": [
    {
     "data": {
      "text/plain": [
       "{'name': '홍길동', 'birth': '990820', 'age': 25}"
      ]
     },
     "execution_count": 34,
     "metadata": {},
     "output_type": "execute_result"
    }
   ],
   "source": [
    "json.loads(json_data)"
   ]
  },
  {
   "cell_type": "markdown",
   "metadata": {},
   "source": [
    "ensure_ascii=False 옵션을 사용하면 데이터 저장 시 아스키 형태로 변환하지 않는다."
   ]
  },
  {
   "cell_type": "code",
   "execution_count": 35,
   "metadata": {},
   "outputs": [
    {
     "data": {
      "text/plain": [
       "'{\"name\": \"홍길동\", \"birth\": \"990820\", \"age\": 25}'"
      ]
     },
     "execution_count": 35,
     "metadata": {},
     "output_type": "execute_result"
    }
   ],
   "source": [
    "import json\n",
    "dd = {\"name\":\"홍길동\",\"birth\":\"990820\",\"age\":25}\n",
    "json_ddata = json.dumps(dd,ensure_ascii=False)\n",
    "json_ddata\n"
   ]
  },
  {
   "cell_type": "markdown",
   "metadata": {},
   "source": [
    "indent 옵션을 통해 보기 좋게 정렬가능하다.\n",
    "\n",
    "indent 파라미터의 값이 정수인 경우, 그 정수는 각 레벨마다 사용될 공백의 수를 뜻함"
   ]
  },
  {
   "cell_type": "code",
   "execution_count": 36,
   "metadata": {},
   "outputs": [
    {
     "name": "stdout",
     "output_type": "stream",
     "text": [
      "{\n",
      "  \"name\": \"홍길동\",\n",
      "  \"birth\": \"990820\",\n",
      "  \"age\": 25\n",
      "}\n"
     ]
    }
   ],
   "source": [
    "import json\n",
    "ddd = {\"name\":\"홍길동\",\"birth\":\"990820\",\"age\":25}\n",
    "json_dddata = json.dumps(ddd,ensure_ascii=False, indent=2)\n",
    "print(json_dddata)\n"
   ]
  },
  {
   "cell_type": "markdown",
   "metadata": {},
   "source": [
    "Python의 파일 I/O 기능을 통해 JSON파일로 저장할 수 있다."
   ]
  },
  {
   "cell_type": "code",
   "execution_count": 37,
   "metadata": {},
   "outputs": [],
   "source": [
    "import json\n",
    "\n",
    "ddd = {\"name\":\"홍길동\",\"birth\":\"990820\",\"age\":25}\n",
    "json_ddddata = json.dumps(ddd, ensure_ascii=False, indent=2)\n",
    "\n",
    "# 'with' 문을 사용하여 파일을 열고 자동으로 닫습니다.\n",
    "with open('data.json', 'w', encoding='utf-8') as json_file:\n",
    "    json_file.write(json_dddata)"
   ]
  },
  {
   "cell_type": "markdown",
   "metadata": {},
   "source": [
    "기존 JSON파일을 불러와 수정하고 다시 저장할 수도 있다.\n",
    "하지만 다음 방법은 큰 JSON파일에서는 효율적이지 않을 수 있다."
   ]
  },
  {
   "cell_type": "code",
   "execution_count": 38,
   "metadata": {},
   "outputs": [],
   "source": [
    "import json\n",
    "\n",
    "# 1. 기존 JSON 파일 읽기\n",
    "with open('data.json', 'r', encoding='utf-8') as json_file:\n",
    "    data = json.load(json_file)\n",
    "\n",
    "# 2. Python 객체 수정하기 (예: age 값을 26으로 변경)\n",
    "data['age'] = 26\n",
    "\n",
    "# 3. 수정된 객체를 다시 JSON 파일로 저장하기\n",
    "with open('data.json', 'w', encoding='utf-8') as json_file:\n",
    "    json.dump(data, json_file, ensure_ascii=False, indent=2)\n"
   ]
  }
 ],
 "metadata": {
  "kernelspec": {
   "display_name": "python3.8",
   "language": "python",
   "name": "python3"
  },
  "language_info": {
   "codemirror_mode": {
    "name": "ipython",
    "version": 3
   },
   "file_extension": ".py",
   "mimetype": "text/x-python",
   "name": "python",
   "nbconvert_exporter": "python",
   "pygments_lexer": "ipython3",
   "version": "3.8.0"
  },
  "orig_nbformat": 4
 },
 "nbformat": 4,
 "nbformat_minor": 2
}
