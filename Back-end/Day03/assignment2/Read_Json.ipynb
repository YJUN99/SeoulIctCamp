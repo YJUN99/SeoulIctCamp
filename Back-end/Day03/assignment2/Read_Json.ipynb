{
 "cells": [
  {
   "cell_type": "code",
   "execution_count": 2,
   "metadata": {},
   "outputs": [
    {
     "name": "stdout",
     "output_type": "stream",
     "text": [
      "{'users': [{'userId': 1, 'firstName': 'AAAAA', 'lastName': 'as23', 'phoneNumber': '123456', 'emailAddress': 'AAAAA@test.com', 'homepage': 'https://velog.io/@yjun99/AI-웹개발-취업-캠프-정보통신산업진흥원-SW-기초-과정-2주차월-과제'}, {'userId': 2, 'firstName': 'BBBB', 'lastName': 'h5jdd', 'phoneNumber': '123456', 'homepage': 'https://velog.io/@yjun99/AI-웹개발-취업-캠프-정보통신산업진흥원-SW-기초-과정-2주차수-과제'}, {'userId': 3, 'firstName': 'CCCCC', 'lastName': '2dhbs', 'phoneNumber': '33333333', 'homepage': 'https://velog.io/@yjun99/AI-웹개발-취업-캠프-정보통신산업진흥원-SW-기초-과정-2주차목-과제'}, {'userId': 4, 'firstName': 'DDDDD', 'lastName': 'bacasd', 'phoneNumber': '222222222', 'homepage': 'https://velog.io/@yjun99/AI-웹개발-취업-캠프-정보통신산업진흥원-SW-기초-과정-2주차금-과제'}, {'userId': 5, 'firstName': 'EEEEE', 'lastName': 'asdfasdf', 'phoneNumber': '111111111', 'homepage': 'https://velog.io/@yjun99/AI-웹개발-취업-캠프-정보통신산업진흥원-SW-기초-과정-3주차월-과제'}]}\n"
     ]
    }
   ],
   "source": [
    "import json\n",
    "\n",
    "with open('myinfo.json') as f:\n",
    "    data = json.load(f)\n",
    "\n",
    "type(f)\n",
    "type(data)"
   ]
  },
  {
   "cell_type": "code",
   "execution_count": null,
   "metadata": {},
   "outputs": [],
   "source": []
  },
  {
   "cell_type": "markdown",
   "metadata": {},
   "source": []
  }
 ],
 "metadata": {
  "kernelspec": {
   "display_name": "python3.8",
   "language": "python",
   "name": "python3"
  },
  "language_info": {
   "codemirror_mode": {
    "name": "ipython",
    "version": 3
   },
   "file_extension": ".py",
   "mimetype": "text/x-python",
   "name": "python",
   "nbconvert_exporter": "python",
   "pygments_lexer": "ipython3",
   "version": "3.8.0"
  },
  "orig_nbformat": 4
 },
 "nbformat": 4,
 "nbformat_minor": 2
}
