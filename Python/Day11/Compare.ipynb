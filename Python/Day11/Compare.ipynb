{
 "cells": [
  {
   "cell_type": "markdown",
   "metadata": {},
   "source": [
    "## 숫자끼리 비교하는 연산과 문자끼리 비교하는 연산 중 왜 문자끼리 비교하는 연산이 상대적으로 불리한지 이유에 대해서 정리해보고 샘플 코드를 구현해서 제출하기"
   ]
  },
  {
   "cell_type": "markdown",
   "metadata": {},
   "source": [
    "### 해당 과제는 제 생각을 적은 과제입니다. "
   ]
  },
  {
   "cell_type": "code",
   "execution_count": 5,
   "metadata": {},
   "outputs": [
    {
     "name": "stdout",
     "output_type": "stream",
     "text": [
      "[72, 101, 108, 108, 111, 87, 111, 114, 108, 100]\n"
     ]
    }
   ],
   "source": [
    "num1 = 12\n",
    "num2 = 13\n",
    "\n",
    "str1 = \"HelloWorld\"\n",
    "\n",
    "str1_list = []\n",
    "for i in range(len(str1)):\n",
    "    str1_list.append(ord(str1[i]))\n",
    "\n",
    "print(str1_list)"
   ]
  },
  {
   "cell_type": "markdown",
   "metadata": {},
   "source": [
    "- 문자열은 문자들이 이어져 있는 형태이다.\n",
    "- 문자는 아스키코드로 치환 될 수 있다 (알파벳의 경우).\n",
    "- 즉, 숫자끼리의 비교는 숫자 한번의 비교로 가능하지만 문자열의 경우 문자 각각 순차적으로 전부 비교를 해야하기 때문에\n",
    "- 연산의 양과 연산의 수에서 숫자의 비교가 우위를 가질 수 있다."
   ]
  },
  {
   "cell_type": "code",
   "execution_count": 8,
   "metadata": {},
   "outputs": [
    {
     "name": "stdout",
     "output_type": "stream",
     "text": [
      "7.894299030303955\n",
      "7.320104598999023\n"
     ]
    }
   ],
   "source": [
    "import time # 시간측정을 위한 time 모듈\n",
    "\n",
    "start = time.time()\n",
    "for i in range (100000000):\n",
    "    num1 = 12\n",
    "    num2 = 13\n",
    "    num1 == num2\n",
    "end = time.time()\n",
    "print(end - start)\n",
    "    \n",
    "    \n",
    "count = 0\n",
    "start = time.time()\n",
    "for i in range (100000000):\n",
    "    str1 = \"HelloWorld\"\n",
    "    str2 = \"HelloPython\"\n",
    "    str1 == str2\n",
    "end = time.time()\n",
    "\n",
    "print(end - start)"
   ]
  },
  {
   "cell_type": "markdown",
   "metadata": {},
   "source": [
    "- 비교연산의 시간을 측정하기 위해 time 모듈을 임포트 했다.\n",
    "- 비교 연산의 시작 전 시간을 저장하고 (start), 비교 연산이 끝난 후 시간을 저장해 (end)\n",
    "- 두 수의 차를 구함으로써 연산 시간을 측정할 수 있다. (end - start)\n",
    "그 결과 \n",
    "\n",
    "7.894299030303955\n",
    "7.320104598999023\n",
    "\n",
    "- ??? \n",
    "- string 비교 연산이 더 빨랐다.\n",
    "- 나는 이것이 C/C++ 과 같이 문자열이 데이터섹션에 미리 저장되고 (파이썬은 인터프리터 언어이기 떄문에 그럴일 없지만) \n",
    "- 그 주소를 계속 참조하기 때문에 더 빠른 결과가 나온것이라고 추측했다. "
   ]
  },
  {
   "cell_type": "code",
   "execution_count": 10,
   "metadata": {},
   "outputs": [
    {
     "name": "stdout",
     "output_type": "stream",
     "text": [
      "11.688180685043335\n",
      "10.789572477340698\n"
     ]
    }
   ],
   "source": [
    "import time\n",
    "\n",
    "def compare_numbers():\n",
    "    num1 = 1234567890\n",
    "    num2 = 1234567891\n",
    "    num1 == num2\n",
    "start = time.time()\n",
    "\n",
    "for i in range(100000000):\n",
    "    compare_numbers()\n",
    "end = time.time()\n",
    "print(end - start)\n",
    "\n",
    "def compare_strings():\n",
    "    str1 = \"HelloWorld\"\n",
    "    str2 = \"HelloPython\"\n",
    "    str1 == str2\n",
    "\n",
    "start = time.time()\n",
    "for i in range(100000000):\n",
    "    compare_strings()\n",
    "end = time.time()\n",
    "print(end - start)\n"
   ]
  },
  {
   "cell_type": "markdown",
   "metadata": {},
   "source": [
    "- 함수 내에 변수를 선언함 으로써 지역변수로 만들고\n",
    "- 함수가 호출될 때 새로운 주소를 할당받고 함수가 끝날때 가비지 컬렉터에 의해 주소를 방출하는 형태로 실험해봤다.\n",
    "그 결과 \n",
    "11.688180685043335\n",
    "10.789572477340698\n",
    "- 여전히 string 비교연산이 더 빠른 이상한 현상이 지속됐다."
   ]
  },
  {
   "cell_type": "markdown",
   "metadata": {},
   "source": [
    "### 파이썬 인터닝?"
   ]
  },
  {
   "cell_type": "markdown",
   "metadata": {},
   "source": [
    "- 파이썬은 OOP를 제공하기 때문에 파이썬 인터닝이라는 최적호 기법을 사용한다고 한다\n",
    "- Interning 이란 이미 생성된 객체를 재사용하는 것\n",
    "- 파이썬에서 제공하는 디폴트 인터닝은 다음과 같다.\n",
    "  - Cpython의 경우\n",
    "  - 문자열: 20자 미만의 공백을 포함하지 않는 문자열\n",
    "  - 정수: -5 부터 256 사이의 정수"
   ]
  },
  {
   "cell_type": "code",
   "execution_count": 12,
   "metadata": {},
   "outputs": [
    {
     "name": "stdout",
     "output_type": "stream",
     "text": [
      "2952471249424 2952471249424 True\n",
      "2952553951792 2952545572944 True\n",
      "False\n",
      "True\n"
     ]
    }
   ],
   "source": [
    "i = 10\n",
    "j = 10\n",
    "print(id(i), id(j), i == j) # i주소,j주소 True\n",
    "  \n",
    "x = 257\n",
    "y = 257\n",
    "print(id(x), id(y), x == y) # x주소, y주소, False\n",
    "\n",
    "str1 = \"Hello\"\n",
    "str2 = \"Hello1\"\n",
    "\n",
    "print(id(str1) == id(str2)) # False\n",
    "print(id(str1[0]) == id(str2[0])) # True"
   ]
  },
  {
   "cell_type": "markdown",
   "metadata": {},
   "source": [
    "- 파이썬의 내부 구조를 전부 뜯어 보지 않았지만 우리가 알지 못하는 최적화 하는 방법이 존재할 것이다.\n",
    "- 파이썬 인터닝도 그 일부분이며 파이썬이 워낙 하이레벨이기 때문에 성능 개선을 위한 많은 업데이트가 진행되었을 것이다.\n",
    "- 확실한건 문자열비교에 는 문자 각각 비교를 한다는 것이고, C언어 기준 정수 비교 연산보다 더 비효율적이며 속도가 느릴수밖에 없다."
   ]
  }
 ],
 "metadata": {
  "kernelspec": {
   "display_name": "Python 3",
   "language": "python",
   "name": "python3"
  },
  "language_info": {
   "codemirror_mode": {
    "name": "ipython",
    "version": 3
   },
   "file_extension": ".py",
   "mimetype": "text/x-python",
   "name": "python",
   "nbconvert_exporter": "python",
   "pygments_lexer": "ipython3",
   "version": "3.10.11"
  },
  "orig_nbformat": 4
 },
 "nbformat": 4,
 "nbformat_minor": 2
}
