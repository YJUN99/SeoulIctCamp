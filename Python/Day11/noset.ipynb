{
 "cells": [
  {
   "cell_type": "markdown",
   "metadata": {},
   "source": [
    "## 파이썬으로 일부 중복되는 element를 저장하고 최소 element가 10개이상 되는 배열을 만든다. 그리고 set() 구문 없이 오로지 for in 문으로 배열의 중복된 값을 없애는 코드를 작성하기"
   ]
  },
  {
   "cell_type": "code",
   "execution_count": 24,
   "metadata": {},
   "outputs": [
    {
     "name": "stdout",
     "output_type": "stream",
     "text": [
      "['c', 'b', 'a', 'd', 'e', 'f']\n"
     ]
    }
   ],
   "source": [
    "elements = ['a', 'b', 'a' , 'c' , 'b', 'd' , 'e' , 'a' , 'd', 'e' , 'f']\n",
    "# 예상결과 \n",
    "# ['a', 'b' , 'c' , 'd', 'e' , 'f']\n",
    "result = []\n",
    "\n",
    "def is_duplicate(idx):\n",
    "    for i in range(idx+1, len(elements)):\n",
    "        if(elements[idx] == elements[i]):\n",
    "            return True\n",
    "    return False\n",
    "\n",
    "for i in range(len(elements)):\n",
    "    if(is_duplicate(i)):    # 중복이 존재한다면\n",
    "        continue\n",
    "    else:\n",
    "        result.append(elements[i])\n",
    "\n",
    "print(result)\n",
    "        "
   ]
  },
  {
   "cell_type": "markdown",
   "metadata": {},
   "source": [
    "- set 은 \"집합\" 개념이기 때문에 리스트 내부의 \"순서\"를 생각할 필요없다."
   ]
  },
  {
   "cell_type": "markdown",
   "metadata": {},
   "source": [
    "### 굳이 순서를 생각하자면"
   ]
  },
  {
   "cell_type": "code",
   "execution_count": 25,
   "metadata": {},
   "outputs": [
    {
     "name": "stdout",
     "output_type": "stream",
     "text": [
      "['a', 'b', 'c', 'd', 'e', 'f']\n"
     ]
    }
   ],
   "source": [
    "elements = ['a', 'b', 'a' , 'c' , 'b', 'd' , 'e' , 'a' , 'd', 'e' , 'f']\n",
    "# 예상결과 \n",
    "# ['a', 'b' , 'c' , 'd', 'e' , 'f']\n",
    "result = []\n",
    "\n",
    "for i in range(len(elements)):\n",
    "    if elements[i] not in result:\n",
    "        result.append(elements[i])\n",
    "\n",
    "print(result)\n",
    "        "
   ]
  },
  {
   "cell_type": "markdown",
   "metadata": {},
   "source": [
    "- 새로운 list 'result' 와 not in 구문을 활용한 방법"
   ]
  },
  {
   "cell_type": "markdown",
   "metadata": {},
   "source": []
  },
  {
   "cell_type": "code",
   "execution_count": null,
   "metadata": {},
   "outputs": [],
   "source": []
  }
 ],
 "metadata": {
  "kernelspec": {
   "display_name": "Python 3",
   "language": "python",
   "name": "python3"
  },
  "language_info": {
   "codemirror_mode": {
    "name": "ipython",
    "version": 3
   },
   "file_extension": ".py",
   "mimetype": "text/x-python",
   "name": "python",
   "nbconvert_exporter": "python",
   "pygments_lexer": "ipython3",
   "version": "3.10.11"
  },
  "orig_nbformat": 4
 },
 "nbformat": 4,
 "nbformat_minor": 2
}
